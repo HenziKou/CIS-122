{
 "cells": [
  {
   "cell_type": "markdown",
   "metadata": {},
   "source": [
    "# Topics\n",
    "\n",
    "### 1. Iteration  \n",
    "```python\n",
    "# iterate a specific number of times\n",
    "for i in range (17):\n",
    "    print(\"Something\")\n",
    "\n",
    "a_list = ['BIO', 'BUS', 'CHEM', 'CIS', 'ECON', 'JR', 'PHY']\n",
    "\n",
    "# iterate with an index to change an item in a list\n",
    "for index in range(len(a_list)):\n",
    "    if a_list[index] == 'JR'\n",
    "        a_list[index] = 'J'\n",
    "    #\n",
    "\n",
    "# iterate \n",
    "for item in a_list:\n",
    "    print(item)\n",
    "    print()\n",
    "\n",
    "# iterate through the keys in a dictionary\n",
    "a_dict = {'BUS': 'Lillis', 'CHEM':'Klamath', 'CIS':'Deschutes'}\n",
    "for a_key in a_dict:\n",
    "    hall = a_dict[a_key]\n",
    "```\n",
    "### 2. Filter  \n",
    "#### -- create a list that just includes the items you want to work with\n",
    "```python\n",
    "big_list = [45, 67, 99, 109, 14, 22, 137, 895, 416, 33, -7]\n",
    "# Get a filtered list of values smaller than 50\n",
    "little_numbers = []\n",
    "for number in big_list:\n",
    "    if number < 50:\n",
    "        little_numbers.append(number)\n",
    "#\n",
    "```\n",
    "\n",
    "### 3. categories \n",
    "#### assign a category to values using if elif  elif  elif else\n",
    "```python\n",
    "height = 75 # inches\n",
    "if height < 60:\n",
    "    category = 'short'\n",
    "elif height < 72:\n",
    "    category = 'typical'\n",
    "elif height < 85:\n",
    "    category = 'tall'\n",
    "else:\n",
    "    category = 'very tall'\n",
    "print(height, category)\n",
    "```\n",
    "\n",
    "### 4. while \n",
    "#### use when you cannot predict how many times to loop\n",
    "```python\n",
    "name_list\n",
    "request = 'Type / to quit or type a name to add: '\n",
    "name = input(request)\n",
    "while name != '/':\n",
    "    # do something with the name (maybe append it to a list)\n",
    "    name_list.append(name)\n",
    "    # get another \n",
    "    name = input(request)\n",
    "#\n",
    "\n",
    "```\n",
    "\n",
    "### 5. define a function\n",
    "#### Given one or more values, return an answer\n",
    "```python\n",
    "def compute_value(a, b, c):\n",
    "    ''' compute c * sum of first two numbers'''\n",
    "    result = (a + b) * c\n",
    "    return result\n",
    "# \n",
    "```\n",
    "\n",
    "### 6. pandas\n",
    "#### get and filter data from web or file with pandas\n",
    "```python\n",
    "import pandas as pd\n",
    "# can read a .csv (comma separated file) all in one statement\n",
    "url = 'http://some_pathtoafile'\n",
    "my_data = pd.read_csv(url)\n",
    "\n",
    "who = 'Taylor'\n",
    "results = my_data.query('name == @who') # query the pandas data\n",
    "```"
   ]
  },
  {
   "cell_type": "markdown",
   "metadata": {},
   "source": [
    "### Iteration - Repeat number times\n",
    "#### for some_variable in range(number):  # Repeat number times"
   ]
  },
  {
   "cell_type": "code",
   "execution_count": null,
   "metadata": {
    "collapsed": false
   },
   "outputs": [],
   "source": [
    "# Repeat 17 times\n",
    "for i in range (17):\n",
    "    print(\"Chant with me\")"
   ]
  },
  {
   "cell_type": "code",
   "execution_count": null,
   "metadata": {
    "collapsed": false
   },
   "outputs": [],
   "source": [
    "# Repeat n times\n",
    "typing = input(\"Repeat how many times (1-7) \")\n",
    "n = int(typing)\n",
    "for count in range(n):\n",
    "    print(\"Go Ducks!\")\n"
   ]
  },
  {
   "cell_type": "markdown",
   "metadata": {},
   "source": [
    "### Iteration - Example\n",
    "#### a_list = ['Alpha', 'Bravo', 'Charlee', 'Data']\n",
    "#### for some_index in range(len(a_list): "
   ]
  },
  {
   "cell_type": "code",
   "execution_count": null,
   "metadata": {
    "collapsed": false
   },
   "outputs": [],
   "source": [
    "# This is just a test list; our real list has 17,477 items\n",
    "# so you need a program to examine the list for known bad values\n",
    "\n",
    "a_list = ['Alpha', 'Bravo', 'Charlee', 'Data', 'Echo']\n",
    "# Iterate\n",
    "# Check each item in list for known errors\n",
    "# Change wrong items to right values\n",
    "for index in range(len(a_list)):\n",
    "    item = a_list[index]\n",
    "    if item == 'Charlee':\n",
    "        a_list[index] = 'Charlie'\n",
    "    if item == 'Data':\n",
    "        a_list[index] = 'Data'\n",
    "    #\n",
    "#\n",
    "print(a_list)"
   ]
  },
  {
   "cell_type": "markdown",
   "metadata": {},
   "source": [
    "### Iteration -- Example\n",
    "#### transportation_list = ['Plane', 'Bike', 'Train', 'Cable Car', 'Auto', 'Truck', 'Canoe']\n",
    "#### for each_item in transportation_list:\n"
   ]
  },
  {
   "cell_type": "code",
   "execution_count": null,
   "metadata": {
    "collapsed": false,
    "scrolled": true
   },
   "outputs": [],
   "source": [
    "transportation_list = ['Plane', 'Bike', 'Train', 'Cable Car', \n",
    "          'Auto', 'Truck', 'Canoe']\n",
    "for each_item in transportation_list:\n",
    "    if each_item == 'Cable Car':\n",
    "        comment = '-- only use in San Francisco'\n",
    "    else:\n",
    "        comment = 'use in any city'\n",
    "    print(each_item, comment) # all on the same line\n",
    "#"
   ]
  },
  {
   "cell_type": "code",
   "execution_count": null,
   "metadata": {
    "collapsed": false
   },
   "outputs": [],
   "source": [
    "transportation_list.append('Monorail')\n",
    "for each_vehicle in transportation_list:\n",
    "    print(each_vehicle)\n",
    "#\n",
    "print(\"\\nDone\")"
   ]
  },
  {
   "cell_type": "markdown",
   "metadata": {},
   "source": [
    "## Iteration - Example\n",
    "### going through keys in a dictionary"
   ]
  },
  {
   "cell_type": "code",
   "execution_count": null,
   "metadata": {
    "collapsed": false
   },
   "outputs": [],
   "source": [
    "state_trees_dict = {'WA': 'western hemlock', 'ID': 'white pine', \n",
    "                    'OR': 'douglas fir', 'NV': 'pinyon pine'}\n",
    "# Here the keys are 'WA', 'ID', 'OR', 'NV'\n",
    "\n",
    "for key_state in state_trees_dict:\n",
    "    tree = state_trees_dict[key_state]\n",
    "    print(key_state, tree)"
   ]
  },
  {
   "cell_type": "code",
   "execution_count": null,
   "metadata": {
    "collapsed": false
   },
   "outputs": [],
   "source": [
    "# Sort the keys\n",
    "state_trees_dict = {'WA': 'western hemlock', 'ID': 'white pine', \n",
    "                    'OR': 'douglas fir', 'NV': 'pinyon pine'}\n",
    "# Here the keys are 'WA', 'ID', 'OR', 'NV'\n",
    "\n",
    "for key_state in sorted(state_trees_dict):\n",
    "    #            ******\n",
    "    tree = state_trees_dict[key_state]\n",
    "    print(key_state, tree)"
   ]
  },
  {
   "cell_type": "markdown",
   "metadata": {},
   "source": [
    "## Iteration - Example using while\n",
    "### while some_condition is true"
   ]
  },
  {
   "cell_type": "code",
   "execution_count": null,
   "metadata": {
    "collapsed": false
   },
   "outputs": [],
   "source": [
    "animal_list = [ ] # start with empty list\n",
    "request = 'Name of animal or / to stop: '\n",
    "animal_name = input(request)\n",
    "while animal_name != '/':\n",
    "    animal_list.append(animal_name)\n",
    "    \n",
    "    # Must get another or we'll get stuck in infinite loop\n",
    "    animal_name = input(request)\n",
    "#\n",
    "print(\"\\nAnimals in our list\")\n",
    "for animal in animal_list:\n",
    "    print(animal)\n",
    "#\n",
    "print(\"Done!\")"
   ]
  },
  {
   "cell_type": "markdown",
   "metadata": {},
   "source": [
    "# Filter\n",
    "## Create a filtered list from a large list\n",
    "### 1. Create an empty filtered list\n",
    "### 2. Iterate through the large list,\n",
    "### 3. If an item qualifies, append it to the filtered list"
   ]
  },
  {
   "cell_type": "code",
   "execution_count": null,
   "metadata": {
    "collapsed": false
   },
   "outputs": [],
   "source": [
    "car_prices = [12675, 19200, 22500, 37300, 58900, 72000, 107500, 5000]\n",
    "luxury_car_prices = []   # luxury cars cost more than $50,000\n",
    "\n",
    "# Iterate, selecting the luxury car prices\n",
    "for price in car_prices:\n",
    "    if price > 50000:\n",
    "        # filtered_list.append(value)\n",
    "        # Adds the price to the end of the luxury car prices list\n",
    "        luxury_car_prices.append(price)\n",
    "    #\n",
    "#\n",
    "\n",
    "# Get some info about the filetered data\n",
    "total_luxury_car_prices = sum(luxury_car_prices)\n",
    "number_of_luxury_cars = len(luxury_car_prices)\n",
    "average_luxury_price = \\\n",
    "    round(total_luxury_car_prices / number_of_luxury_cars, 2)\n",
    "    \n",
    "print(\"Luxury car prices\")\n",
    "print(\"Total: $\", total_luxury_car_prices)\n",
    "print(\"Number of luxury cars\", number_of_luxury_cars)\n",
    "print(\"Average cost $\", average_luxury_price)   "
   ]
  },
  {
   "cell_type": "markdown",
   "metadata": {},
   "source": [
    "# Put into categories   if    elif    elif  elif   else"
   ]
  },
  {
   "cell_type": "code",
   "execution_count": null,
   "metadata": {
    "collapsed": false
   },
   "outputs": [],
   "source": [
    "# Prineville University wants to change scores into words\n",
    "# range of scores      word\n",
    "#   90 - 100           \"Excellent\"\n",
    "#   78 - 89            \"Good\"\n",
    "#   65 - 77            \"OK\"\n",
    "#   55 - 64            \"Poor\"\n",
    "#   0  - 54            \"Unacceptable\"\n",
    "\n",
    "score_list = [17, 98, 100, 54, 56, 65, 72, 89, 90]\n",
    "word_list  = [ ]\n",
    "\n",
    "for score in score_list:\n",
    "    if score >= 90:\n",
    "        word = \"Excellent\"\n",
    "        # at this point, Python jumps past all remaining elifs and else\n",
    "    elif score >= 78:\n",
    "        word = \"Good\"\n",
    "        # at this point, Python jumps past all remaining elifs and else\n",
    "    elif score >= 65:\n",
    "        word = \"OK\"\n",
    "        # at this point, Python jumps past all remaining elifs and else\n",
    "    elif score >= 55:\n",
    "        word = \"Poor\"\n",
    "        # at this point, Python jumps past the remaining else        \n",
    "    else:\n",
    "        word = \"Unacceptable\"\n",
    "    #\n",
    "    # Add word to word_list\n",
    "    word_list.append(word)\n",
    "#\n",
    "\n",
    "n = len(score_list)\n",
    "for index in range(n):\n",
    "    score = score_list[index]\n",
    "    word = word_list[index]\n",
    "    print(score, 'is', word)\n",
    "#"
   ]
  },
  {
   "cell_type": "markdown",
   "metadata": {},
   "source": [
    "## pandas Example - to read, then filter data"
   ]
  },
  {
   "cell_type": "code",
   "execution_count": null,
   "metadata": {
    "collapsed": false,
    "scrolled": true
   },
   "outputs": [],
   "source": [
    "import pandas as pd\n",
    "\n",
    "url = 'http://www.cs.uoregon.edu/Classes/17W/cis122/data/yob2006.csv'\n",
    "name_data = pd.read_csv(url)\n",
    "name_data[0:5] # show 1st 5 rows of data\n",
    "# Emily F 21385\n",
    "# in 2006, \"Emily\" was the name for 21385 Female babies (\"F\") born in USA\n",
    "# Column names\n",
    "#   name    baby name such as 'Madison'\n",
    "#   gender  F or M\n",
    "#   count   int number of babies born with this name"
   ]
  },
  {
   "cell_type": "markdown",
   "metadata": {},
   "source": [
    "## filter pandas data to names_found"
   ]
  },
  {
   "cell_type": "code",
   "execution_count": null,
   "metadata": {
    "collapsed": false
   },
   "outputs": [],
   "source": [
    "who = 'Madison'\n",
    "# in a query string, @xxx refers to a variable xxx\n",
    "names_found = name_data.query('name == @who') # @who means the variable who\n",
    "names_found"
   ]
  },
  {
   "cell_type": "markdown",
   "metadata": {},
   "source": [
    "## define a function\n",
    "### it will return an answer to the caller"
   ]
  },
  {
   "cell_type": "code",
   "execution_count": null,
   "metadata": {
    "collapsed": false
   },
   "outputs": [],
   "source": [
    "# define a function\n",
    "def compute_remainder(amount, divisor):\n",
    "    '''\n",
    "        Given an integer amount, \n",
    "        compute the remainder of integer dividing\n",
    "        amount by divisor\n",
    "        \n",
    "        Divisor must be integer, not 0\n",
    "        \n",
    "        Example:\n",
    "        x = compute_remainder(5, 2))\n",
    "        print(x)\n",
    "        prints 1 \n",
    "        \n",
    "    '''\n",
    "    remainder = amount % divisor\n",
    "    return remainder\n",
    "\n",
    "# Define function name (one or more parameter names) : colon\n",
    "#    '''\n",
    "#       Optional notes describing purpose, use of function\n",
    "#    '''\n",
    "     # One or more statements, indented\n",
    "     # return result   # Sends back a result value, exits function\n",
    "\n",
    "# First unindented statement ends function\n",
    "\n",
    "x = 17\n",
    "y = 3\n",
    "left_over = compute_remainder(x, y)\n",
    "# This function needs two argument values\n",
    "# The names of the arguments don't matter\n",
    "# The function treats them as \"first argument\" and \"second argument\"\n",
    "\n",
    "print(x, 'integer divided by', y, 'gives', left_over, 'remainder')"
   ]
  },
  {
   "cell_type": "markdown",
   "metadata": {},
   "source": [
    "# Your project"
   ]
  },
  {
   "cell_type": "markdown",
   "metadata": {},
   "source": [
    "1) Repeat 18 times<br> \n",
    "Use a **for loop** to repeat this statement **18 times**<br>\n",
    "*Practice makes perfect!*"
   ]
  },
  {
   "cell_type": "code",
   "execution_count": null,
   "metadata": {
    "collapsed": false
   },
   "outputs": [],
   "source": [
    "# 1)   2 points\n",
    "\n",
    "for i in range(18):\n",
    "    print(\"Practice makes perfect!\")"
   ]
  },
  {
   "cell_type": "markdown",
   "metadata": {},
   "source": [
    "2) Repeat 300 times<br> \n",
    "You will **add up the first 300 odd numbers**<br>\n",
    "  Hint: repeat some statements 300 times using a **for loop**<br>\n",
    "  The *first* odd number is **1**, the *2nd* is **3**, and so on."
   ]
  },
  {
   "cell_type": "code",
   "execution_count": null,
   "metadata": {
    "collapsed": false
   },
   "outputs": [],
   "source": [
    "# 2) 2 points\n",
    "\n",
    "def sum_of_odd_numbers(numbers_list):\n",
    "    total = 0\n",
    "    count = 0\n",
    "    for number in numbers_list:\n",
    "        if (number % 2 == 1):\n",
    "            total = total + number \n",
    "        else:\n",
    "            count = count + 1\n",
    "\n",
    "    return total\n",
    "        \n",
    "\n",
    "numbers_list = range(600)\n",
    "result = sum_of_odd_numbers(numbers_list)\n",
    "print(result)\n",
    "\n",
    "# The answer should be 90000\n",
    "# Equation is Summation from 0 to 600 of (2n - 1)\n",
    "\n",
    "# From 1 - 199 the sum of the odd numbers is 10,000   ---> 100 odd numbers\n",
    "# So what is the sum from 1 - 399 ?                   ---> 200 odd numbers\n",
    "# Sum from 1 - 599 ?                                  ---> 300 odd numbers"
   ]
  },
  {
   "cell_type": "markdown",
   "metadata": {},
   "source": [
    "3) Repeat 5 times<br>\n",
    "Use a **for loop** to ask for the *approximate population* of the **5** countries with the biggest population.<br>Append each number to a population_list.<br>Then **print** the population, one country per line."
   ]
  },
  {
   "cell_type": "code",
   "execution_count": null,
   "metadata": {
    "collapsed": false
   },
   "outputs": [],
   "source": [
    "# 3) 2 points\n",
    "\n",
    "population_list = [ ]\n",
    "request = \"Approximate the population of the 5 countries with the biggest populations and type '/' to stop \"\n",
    "populations = input(request)\n",
    "while populations != \"/\":\n",
    "    population_list.append(populations)\n",
    "    populations = input(request)\n",
    "\n",
    "print(\"\\nCountries with the largest populations\")\n",
    "for p in population_list:\n",
    "    print(p)\n",
    "\n",
    "print(\"\\nDone!\")"
   ]
  },
  {
   "cell_type": "markdown",
   "metadata": {},
   "source": [
    "## 4) **Iterate** through a **list of billionaires** in Oregon and Washington<br>\n",
    "  **Print** the name of each *on a separate line.*<br>"
   ]
  },
  {
   "cell_type": "code",
   "execution_count": null,
   "metadata": {
    "collapsed": false
   },
   "outputs": [],
   "source": [
    "# 4) 2 points\n",
    "\n",
    "NW_rich = [\"Bill Gates\", \"Jeff Bezos\", \"Steve Ballmer\", \"Paul Allen\",\n",
    "           \"Howard Schultz\", \"Gabe Newell\", \"James Jannard\", \"Ken Fisher\",\n",
    "           \"Phil Knight\", \"Timothy Boyle\"]\n",
    "\n",
    "for people in NW_rich:\n",
    "    print(people)\n"
   ]
  },
  {
   "cell_type": "markdown",
   "metadata": {},
   "source": [
    "5) Iterate through a list of tiny European countries<br>\n",
    "Hint: use a **for loop** to do so.<br>\n",
    "**Print each** on a **separate line**."
   ]
  },
  {
   "cell_type": "code",
   "execution_count": null,
   "metadata": {
    "collapsed": false
   },
   "outputs": [],
   "source": [
    "# 5) 2 points\n",
    "\n",
    "tiny_countries = ['Vatican City', 'Monaco', 'San Marino',\n",
    "                 'Liechtenstein', 'Malta', 'Andorra']\n",
    "\n",
    "for country in tiny_countries:\n",
    "    print(country)"
   ]
  },
  {
   "cell_type": "markdown",
   "metadata": {},
   "source": [
    "6) There are many tiny countries and autonomous areas not directly \n",
    "ruled by more traditional nations.<br>\n",
    "You have here a short list of several such areas, but the real list\n",
    "would show many dozens of such areas.<br>\n",
    "Several area names need correcting; do so by program statements, not by retyping the entire list.<br>\n",
    "**Hint:** use a **for loop** that uses an **index** to access each area."
   ]
  },
  {
   "cell_type": "code",
   "execution_count": null,
   "metadata": {
    "collapsed": false
   },
   "outputs": [],
   "source": [
    "# 6) 2 points\n",
    "# Do not retype or duplicate this list.\n",
    "# Iterate through the list using an **index** to access list items.\n",
    "\n",
    "# Your program should replace \n",
    "#    Bad          --> Replacement value\n",
    "\n",
    "#    Aisle of Man --> Isle of Man\n",
    "#    Jibraltar    --> Gibraltar\n",
    "#    Malted       --> Malta\n",
    "\n",
    "# When finished, print the list, one name per line\n",
    "\n",
    "odd_areas = ['Jersey', 'Vatican City', 'Aisle of Man',\n",
    "            'Guernsey', 'Jibraltar', 'Malted', 'Monaco']\n",
    "\n",
    "for index in range(len(odd_areas)):\n",
    "    item = odd_areas[index]\n",
    "    if item == \"Aisle of Man\":\n",
    "        odd_areas[index] = \"Isle of Man\"\n",
    "    if item == \"Jibraltar\":\n",
    "        odd_areas[index] = \"Gibraltar\"\n",
    "    if item == \"Malted\":\n",
    "        odd_areas[index] = \"Malta\"\n",
    "    print(odd_areas[index])\n"
   ]
  },
  {
   "cell_type": "markdown",
   "metadata": {},
   "source": [
    "7) This list of percent rates has several errors.<br>\n",
    "**Valid ranges for percents** are **0.50 (1/2 of 1%) through 35.0 (35%)**.<br>\n",
    "Your program will find improper values like 0.05 and change them to\n",
    "valid values like 5.0.<br>\n",
    "**Hint:** use a **for** loop that **uses an index** to access each area."
   ]
  },
  {
   "cell_type": "code",
   "execution_count": null,
   "metadata": {
    "collapsed": false
   },
   "outputs": [],
   "source": [
    "# 7) 2 points\n",
    "# Use program statement to correct the errors in the list.\n",
    "\n",
    "# The real list will have several hundred entries so copying the list\n",
    "# and typing in corrections manually will not work.\n",
    "\n",
    "# When corrections are complete, print out the rates, one per line\n",
    "# like\n",
    "# 3.0\n",
    "# 3.3 and so on.\n",
    "\n",
    "rates = [3.0, 0.033, 0.04, 4.2, 6.2, 0.33, 28.1, 17.5, 0.025]\n",
    "\n",
    "for index in range(len(rates)):\n",
    "    item = rates[index]\n",
    "    if item == 0.033:\n",
    "        rates[index] = 3.3\n",
    "    if item == 0.04:\n",
    "        rates[index] = 4.0\n",
    "    if item == 0.33:\n",
    "        rates[index] = 33.0\n",
    "    if item == 0.025:\n",
    "        rates[index] = 2.5\n",
    "        \n",
    "print(rates)\n"
   ]
  },
  {
   "cell_type": "markdown",
   "metadata": {},
   "source": [
    "8) **Filter** a list of home sizes (given in square feet) - your program will create a **large_homes_list** (those with **10,000 square feet or more**)."
   ]
  },
  {
   "cell_type": "code",
   "execution_count": null,
   "metadata": {
    "collapsed": false
   },
   "outputs": [],
   "source": [
    "# 8) 2 points\n",
    "# Filter the home_size_list to create a large_homes_list\n",
    "# containing the homes with 10000 or more square feet.\n",
    "\n",
    "# The list below is just a small sample list; the real list \n",
    "# will have over 125,000 entries, so you must use program statements\n",
    "# to create the large_homes_list. When done, print the large_homes_list.\n",
    "\n",
    "home_size_list = [1500, 27500, 4510, 15460, 11200, 2400, 2007, \n",
    "                 657, 1220, 19211, 1895, 1720, 8500, 22407]\n",
    "large_homes_list = []\n",
    "\n",
    "for size in home_size_list:\n",
    "    if size >= 10000:\n",
    "        large_homes_list.append(size)\n",
    "\n",
    "print(large_homes_list)\n"
   ]
  },
  {
   "cell_type": "markdown",
   "metadata": {},
   "source": [
    "9) **Filter** a list of first names, creating a **long_names** list.<br> Names with **more than 7 characters** are \"long\" names.<br>\n",
    "Your real list has over 30,000 entries.<br>\n",
    "The test list below has just a few entries, but your program should work as well with the real list.<br>\n",
    "Hint: **iterate** through the names list, **check each name's length** and **append** the long names to your new **long_names_list**."
   ]
  },
  {
   "cell_type": "code",
   "execution_count": null,
   "metadata": {
    "collapsed": false,
    "scrolled": true
   },
   "outputs": [],
   "source": [
    "# 9) 2 points\n",
    "# Filter the name list, creating a long_names list.\n",
    "# An example of finding the length of a name:\n",
    "my_name = 'Bertrand'\n",
    "length = len(my_name) # 8\n",
    "\n",
    "names = ['Alberta', 'Andrea', 'Angelina', 'Ann', 'Betty', 'Dan',\n",
    "         'Donald', 'Horatio', 'Isabella', 'Jack', 'Lee', 'Lightning']\n",
    "long_names = []\n",
    "\n",
    "length = 7\n",
    "for n in names:\n",
    "    if len(n) > length:\n",
    "        long_names.append(n)\n",
    "\n",
    "print(long_names)\n"
   ]
  },
  {
   "cell_type": "markdown",
   "metadata": {},
   "source": [
    "10) **while**<br>\n",
    "Use while to gather names for a **list of African animals** such as giraffes and elephants.<br>\n",
    "Stop gathering names when the user enters \"**Quit**\".<br>\n",
    "Print your list."
   ]
  },
  {
   "cell_type": "code",
   "execution_count": null,
   "metadata": {
    "collapsed": false
   },
   "outputs": [],
   "source": [
    "# 10) 2 points\n",
    "\n",
    "african_animals = []\n",
    "request = \"Enter some African animals or type 'Quit' to quit: \"\n",
    "animal_name = input(request)\n",
    "\n",
    "while animal_name != \"Quit\":\n",
    "    african_animals.append(animal_name)\n",
    "    animal_name = input(request)\n",
    "\n",
    "print(\"\\nA list of African animals:\")\n",
    "for animal in african_animals:\n",
    "    print(animal)\n"
   ]
  },
  {
   "cell_type": "markdown",
   "metadata": {},
   "source": [
    "11) **iterate** through a dictionary's keys<br>\n",
    "Within your for loop, use the key to get the dictionary's value.<br>\n",
    "print the **key** and the **value** of each entry in the dictionary"
   ]
  },
  {
   "cell_type": "code",
   "execution_count": null,
   "metadata": {
    "collapsed": false
   },
   "outputs": [],
   "source": [
    "# 11) 2 points\n",
    "#                      key: value,      key : value,\n",
    "state_capitals_dict = {'WA': 'Olympia', 'ID': 'Boise', \n",
    "                       'OR': 'Salem', 'NV': 'Carson City',\n",
    "                       'CA': 'Sacramento'}\n",
    "# Iterate through the dictionary's keys\n",
    "# For each key in the dictionary, get the capital city \n",
    "# Print both the key (such as 'WA') and the captial (such as 'Olympia')\n",
    "\n",
    "for key_state in state_capitals_dict:\n",
    "    capital = state_capitals_dict[key_state]\n",
    "    print(key_state, capital)\n"
   ]
  },
  {
   "cell_type": "markdown",
   "metadata": {},
   "source": [
    "12) iterate through a dictionary's **sorted keys**<br>\n",
    "Within your for loop, use the key to get the dictionary's value.<br>\n",
    "print the key and the value of each entry in the dictionary"
   ]
  },
  {
   "cell_type": "code",
   "execution_count": null,
   "metadata": {
    "collapsed": false
   },
   "outputs": [],
   "source": [
    "# 12) 2 points   Same as 11) above, but print should be in sorted order\n",
    "#                by key   (CA, ID, NV, OR, WA)\n",
    "#                Your solution should work even if the dictionary\n",
    "#                had other states in it.\n",
    "\n",
    "for key_state in sorted(state_capitals_dict):\n",
    "    capital = state_capitals_dict[key_state]\n",
    "    print(key_state, capital)\n"
   ]
  },
  {
   "cell_type": "markdown",
   "metadata": {},
   "source": [
    "13) use **pandas** to read name data<br> \n",
    "**Ask** a user for a **name to search for**<br>\n",
    "Display the list of matching names\n",
    "\n"
   ]
  },
  {
   "cell_type": "code",
   "execution_count": null,
   "metadata": {
    "collapsed": false
   },
   "outputs": [],
   "source": [
    "import pandas as pd\n",
    "url = 'http://www.cs.uoregon.edu/Classes/17W/cis122/data/yob2006.csv'\n",
    "\n",
    "# Use pandas to read the csv file using this url.\n",
    "# Ask a user which name to display\n",
    "# answer = query the pandas data\n",
    "# Display the query result\n",
    "\n",
    "name_data = pd.read_csv(url)\n",
    "\n",
    "name_string = input(\"Type name to find: \")\n",
    "name_to_find = name_string.title()\n",
    "\n",
    "name_found = name_data.query('name == @name_to_find')\n",
    "name_found\n"
   ]
  },
  {
   "cell_type": "markdown",
   "metadata": {},
   "source": [
    "14) **define a function** to find the **smallest number** in a list that **is greater than zero**.<br> \n",
    "In a list with [9, -22, 3, -777, 44] your function should return 3.<br>\n",
    "You may *assume* that the list will have at least one positive non-zero number."
   ]
  },
  {
   "cell_type": "code",
   "execution_count": 3,
   "metadata": {
    "collapsed": false
   },
   "outputs": [
    {
     "name": "stdout",
     "output_type": "stream",
     "text": [
      "Smallest positive non-zero is 9\n",
      "Smallest positive non-zero is 3\n"
     ]
    }
   ],
   "source": [
    "# 14) 2 points\n",
    "\n",
    "def smallest_positive(a_list):\n",
    "    \n",
    "    min_value = 0\n",
    "    for item in a_list:\n",
    "        if item > min_value:\n",
    "            return item\n",
    "        \n",
    "        \n",
    "    #return new_min_value    \n",
    "    \n",
    "    \n",
    "    \n",
    "# Test your function\n",
    "data_list = [9, -22, 3, -777, 44]\n",
    "answer = smallest_positive(data_list)\n",
    "print(\"Smallest positive non-zero is\", answer)\n",
    "\n",
    "another_list = [3, 1, 5700, -29, 0, 1400000]\n",
    "another_answer = smallest_positive(another_list)\n",
    "print(\"Smallest positive non-zero is\", another_answer)"
   ]
  },
  {
   "cell_type": "markdown",
   "metadata": {},
   "source": [
    "15) **define a function** to compute a discount.<br>\n",
    "The discount amount depends on the amount of the purchase<br>\n",
    "up through 10.00    0% discount <br>\n",
    "up through 25.00    1% discount<br>\n",
    "up through 50.00    3% discount<br>\n",
    "up through 99.99    5% discount<br>\n",
    "larger than 99.99   7% discount<br>\n",
    "\n",
    "If the discount is 7%, return a 7<br>\n",
    "\n",
    "Call your function, print the discount amount<br>\n",
    "Hint: use **if   elif   elif  elif  else**"
   ]
  },
  {
   "cell_type": "code",
   "execution_count": null,
   "metadata": {
    "collapsed": false
   },
   "outputs": [],
   "source": [
    "# 15) 2 points\n",
    "def compute_discount(purchase_amount):\n",
    "    \n",
    "    if sale <= 10.00:\n",
    "        sales_tax = 0.0\n",
    "        total_price = sales_tax * sale\n",
    "    elif sale <= 25.00:\n",
    "        sales_tax = 0.01\n",
    "        total_price = sales_tax * sale\n",
    "    elif sale <= 50.00:\n",
    "        sales_tax = 0.03\n",
    "        total_price = sales_tax * sale\n",
    "    elif sale <= 99.99:\n",
    "        sales_tax = 0.05\n",
    "        total_price = sales_tax * sale\n",
    "    else:\n",
    "        sales_tax = 0.07\n",
    "        total_price = sales_tax * sale\n",
    "        \n",
    "    result = compute_discount(purchase_amount)\n",
    "    return result\n",
    "    \n",
    "    \n",
    "    \n",
    "    \n",
    "sale = float(input('Type amount of purchase: ')) \n",
    "discount_percent = compute_discount(sale)\n",
    "print(sale, 'price will be reduced by', discount_percent, \"%\")   \n",
    "   "
   ]
  },
  {
   "cell_type": "code",
   "execution_count": null,
   "metadata": {
    "collapsed": false
   },
   "outputs": [],
   "source": [
    "# EXTRA CREDIT?\n",
    "# Have you been trying some extra practice?\n",
    "# Earn 2 points extra credit by including your own practice problem here.\n",
    "\n",
    "import random\n",
    "min = 1\n",
    "max = 6\n",
    "\n",
    "roll_again = \"yes\"\n",
    "\n",
    "while roll_again != \"quit\":\n",
    "    print(\"Rolling the dices...\")\n",
    "    print(\"The values are....\")\n",
    "    print(random.randint(min, max))\n",
    "    print(random.randint(min, max))\n",
    "    \n",
    "\n",
    "\n",
    "    roll_again = input(\"Roll the dices again? Or type 'quit'. \")"
   ]
  }
 ],
 "metadata": {
  "anaconda-cloud": {},
  "kernelspec": {
   "display_name": "Python [conda root]",
   "language": "python",
   "name": "conda-root-py"
  },
  "language_info": {
   "codemirror_mode": {
    "name": "ipython",
    "version": 3
   },
   "file_extension": ".py",
   "mimetype": "text/x-python",
   "name": "python",
   "nbconvert_exporter": "python",
   "pygments_lexer": "ipython3",
   "version": "3.5.2"
  }
 },
 "nbformat": 4,
 "nbformat_minor": 2
}

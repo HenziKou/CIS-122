{
 "cells": [
  {
   "cell_type": "code",
   "execution_count": 7,
   "metadata": {
    "collapsed": false
   },
   "outputs": [
    {
     "name": "stdout",
     "output_type": "stream",
     "text": [
      "2722\n",
      "98\n",
      "27\n",
      "456039.02\n"
     ]
    }
   ],
   "source": [
    "# define a quadratic funtion\n",
    "\n",
    "def quad_function(x):\n",
    "    '''\n",
    "    Evaluate a specific quadratic function\n",
    "    '''\n",
    "    \n",
    "    y = x**2 + 17*x + 38\n",
    "    \n",
    "    return y\n",
    "\n",
    "def good_quad(a, b, c, x):\n",
    "    \n",
    "    y = a*x**2 + b*x + c\n",
    "    \n",
    "    return y\n",
    "\n",
    "\n",
    "\n",
    "number = quad_function(44)\n",
    "print(number)\n",
    "\n",
    "zumba = 3\n",
    "z = quad_function(zumba)\n",
    "print(z)\n",
    "\n",
    "new_z = good_quad(1, 2, 3, 4)\n",
    "print(new_z)\n",
    "\n",
    "\n",
    "# Version 2.0 of inputing x variables\n",
    "eugene = 2\n",
    "florence = 37\n",
    "money = 0.02\n",
    "temp = 9\n",
    "new_z2 = good_quad(eugene, florence**3, money, temp)\n",
    "print(new_z2)"
   ]
  },
  {
   "cell_type": "code",
   "execution_count": 5,
   "metadata": {
    "collapsed": false
   },
   "outputs": [
    {
     "name": "stdout",
     "output_type": "stream",
     "text": [
      "Help on function quad_function in module __main__:\n",
      "\n",
      "quad_function(x)\n",
      "    Evaluate a specific quadratic function\n",
      "\n"
     ]
    }
   ],
   "source": [
    "help(quad_function)"
   ]
  },
  {
   "cell_type": "code",
   "execution_count": null,
   "metadata": {
    "collapsed": true
   },
   "outputs": [],
   "source": []
  }
 ],
 "metadata": {
  "anaconda-cloud": {},
  "kernelspec": {
   "display_name": "Python [conda root]",
   "language": "python",
   "name": "conda-root-py"
  },
  "language_info": {
   "codemirror_mode": {
    "name": "ipython",
    "version": 3
   },
   "file_extension": ".py",
   "mimetype": "text/x-python",
   "name": "python",
   "nbconvert_exporter": "python",
   "pygments_lexer": "ipython3",
   "version": "3.5.2"
  }
 },
 "nbformat": 4,
 "nbformat_minor": 1
}

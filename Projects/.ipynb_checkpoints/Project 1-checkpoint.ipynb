{
 "cells": [
  {
   "cell_type": "code",
   "execution_count": 27,
   "metadata": {
    "collapsed": false
   },
   "outputs": [
    {
     "name": "stdout",
     "output_type": "stream",
     "text": [
      "Hello World\n"
     ]
    }
   ],
   "source": [
    "print(\"Hello World\")"
   ]
  },
  {
   "cell_type": "code",
   "execution_count": 29,
   "metadata": {
    "collapsed": false
   },
   "outputs": [
    {
     "name": "stdout",
     "output_type": "stream",
     "text": [
      "Maldives\n",
      "7.59\n",
      "3\n"
     ]
    }
   ],
   "source": [
    "#Create some variables, then print their values using several print statements\n",
    "\n",
    "vacay_location = \"Maldives\"\n",
    "print(\"Maldives\")\n",
    "coffee_price = 7.59\n",
    "print(coffee_price)\n",
    "lang_spoken = 3\n",
    "print(lang_spoken)"
   ]
  },
  {
   "cell_type": "code",
   "execution_count": 34,
   "metadata": {
    "collapsed": false
   },
   "outputs": [
    {
     "name": "stdout",
     "output_type": "stream",
     "text": [
      "I want to visit Maldives\n",
      "In the Spring\n",
      "\n",
      "I want to visit Maldives\n",
      "In the Summer\n",
      "\n",
      "I want to visit Maldives\n",
      "In the Autumn\n",
      "\n",
      "I want to visit Maldives\n",
      "In the Winter\n",
      "\n",
      "\n",
      "I want to visit France\n",
      "In the Spring\n",
      "\n",
      "I want to visit France\n",
      "In the Summer\n",
      "\n",
      "I want to visit France\n",
      "In the Autumn\n",
      "\n",
      "I want to visit France\n",
      "In the Winter\n",
      "\n",
      "\n",
      "I want to visit Italy\n",
      "In the Spring\n",
      "\n",
      "I want to visit Italy\n",
      "In the Summer\n",
      "\n",
      "I want to visit Italy\n",
      "In the Autumn\n",
      "\n",
      "I want to visit Italy\n",
      "In the Winter\n",
      "\n",
      "\n",
      "I want to visit Great Britain\n",
      "In the Spring\n",
      "\n",
      "I want to visit Great Britain\n",
      "In the Summer\n",
      "\n",
      "I want to visit Great Britain\n",
      "In the Autumn\n",
      "\n",
      "I want to visit Great Britain\n",
      "In the Winter\n",
      "\n",
      "\n",
      "I want to visit Greece\n",
      "In the Spring\n",
      "\n",
      "I want to visit Greece\n",
      "In the Summer\n",
      "\n",
      "I want to visit Greece\n",
      "In the Autumn\n",
      "\n",
      "I want to visit Greece\n",
      "In the Winter\n",
      "\n",
      "\n",
      "I want to visit Germany\n",
      "In the Spring\n",
      "\n",
      "I want to visit Germany\n",
      "In the Summer\n",
      "\n",
      "I want to visit Germany\n",
      "In the Autumn\n",
      "\n",
      "I want to visit Germany\n",
      "In the Winter\n",
      "\n",
      "\n",
      "Done!\n"
     ]
    }
   ],
   "source": [
    "#Create 2 variables, then print those variables several times using a \"for\" loop.\n",
    "\n",
    "Countries = [\"Maldives\", \"France\", \"Italy\", \"Great Britain\", \"Greece\", \"Germany\"]\n",
    "Seasons = [\"Spring\", \"Summer\", \"Autumn\", \"Winter\"]\n",
    "for country in Countries:\n",
    "    for season in Seasons:\n",
    "        print(\"I want to visit\", country)\n",
    "        print(\"In the\", season)\n",
    "        print(\"\")\n",
    "    print(\"\")\n",
    "print(\"Done!\")"
   ]
  },
  {
   "cell_type": "code",
   "execution_count": 31,
   "metadata": {
    "collapsed": false
   },
   "outputs": [
    {
     "name": "stdout",
     "output_type": "stream",
     "text": [
      "budget 3000\n",
      "price 2924\n",
      "The price is within the budget\n"
     ]
    }
   ],
   "source": [
    "#Create 2 variables, one for a budget value, one for an item's price, compare with \"if\"\n",
    "\n",
    "budget = 3000\n",
    "print(\"budget\", budget)\n",
    "price = 2924\n",
    "print(\"price\", price)\n",
    "\n",
    "if price > budget:\n",
    "    print(\"The price is more than the budget\")\n",
    "    #Extra Credit\n",
    "    remaining = budget - price\n",
    "    budget = remaining\n",
    "    print(budget)\n",
    "else:\n",
    "    print(\"The price is within the budget\")"
   ]
  },
  {
   "cell_type": "code",
   "execution_count": 26,
   "metadata": {
    "collapsed": false
   },
   "outputs": [
    {
     "name": "stdout",
     "output_type": "stream",
     "text": [
      "budget 100\n",
      "price 20\n",
      "80\n"
     ]
    }
   ],
   "source": [
    "budget = 100\n",
    "print(\"budget\", budget)\n",
    "price = 20\n",
    "print(\"price\", price)\n",
    "remaining = budget - price\n",
    "budget = remaining\n",
    "print(budget)"
   ]
  },
  {
   "cell_type": "code",
   "execution_count": null,
   "metadata": {
    "collapsed": true
   },
   "outputs": [],
   "source": [
    "#Create 2 variables, then print those variables several times using a \"for\" loop.\n",
    "\n",
    "Countries = [\"Maldives\", \"France\", \"Italy\", \"Great Britain\", \"Greece\", \"Germany\"]\n",
    "Seasons = [\"Spring\", \"Summer\", \"Autumn\", \"Winter\"]\n",
    "for country in Countries:\n",
    "    for season in Seasons:\n",
    "        print(\"I want to visit\", country)\n",
    "        print(\"In the\", season)\n",
    "        print(\"\")\n",
    "    print(\"\")\n",
    "print(\"Done!\")"
   ]
  }
 ],
 "metadata": {
  "anaconda-cloud": {},
  "kernelspec": {
   "display_name": "Python [conda root]",
   "language": "python",
   "name": "conda-root-py"
  },
  "language_info": {
   "codemirror_mode": {
    "name": "ipython",
    "version": 3
   },
   "file_extension": ".py",
   "mimetype": "text/x-python",
   "name": "python",
   "nbconvert_exporter": "python",
   "pygments_lexer": "ipython3",
   "version": "3.5.2"
  }
 },
 "nbformat": 4,
 "nbformat_minor": 1
}

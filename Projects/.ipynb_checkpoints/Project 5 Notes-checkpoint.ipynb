{
 "cells": [
  {
   "cell_type": "markdown",
   "metadata": {},
   "source": [
    "# Topics\n",
    "\n",
    "### 1. Iteration  \n",
    "```python\n",
    "# iterate a specific number of times\n",
    "for i in range (17):\n",
    "    print(\"Something\")\n",
    "\n",
    "a_list = ['BIO', 'BUS', 'CHEM', 'CIS', 'ECON', 'JR', 'PHY']\n",
    "\n",
    "# iterate with an index to change an item in a list\n",
    "for index in range(len(a_list)):\n",
    "    if a_list[index] == 'JR'\n",
    "        a_list[index] = 'J'\n",
    "    #\n",
    "\n",
    "# iterate \n",
    "for item in a_list:\n",
    "    print(item)\n",
    "    print()\n",
    "\n",
    "# iterate through the keys in a dictionary\n",
    "a_dict = {'BUS': 'Lillis', 'CHEM':'Klamath', 'CIS':'Deschutes'}\n",
    "for a_key in a_dict:\n",
    "    hall = a_dict[a_key]\n",
    "```\n",
    "### 2. Filter  \n",
    "#### -- create a list that just includes the items you want to work with\n",
    "```python\n",
    "big_list = [45, 67, 99, 109, 14, 22, 137, 895, 416, 33, -7]\n",
    "# Get a filtered list of values smaller than 50\n",
    "little_numbers = []\n",
    "for number in big_list:\n",
    "    if number < 50:\n",
    "        little_numbers.append(number)\n",
    "#\n",
    "```\n",
    "\n",
    "### 3. categories \n",
    "#### assign a category to values using if elif  elif  elif else\n",
    "```python\n",
    "height = 75 # inches\n",
    "if height < 60:\n",
    "    category = 'short'\n",
    "elif height < 72:\n",
    "    category = 'typical'\n",
    "elif height < 85:\n",
    "    category = 'tall'\n",
    "else:\n",
    "    category = 'very tall'\n",
    "print(height, category)\n",
    "```\n",
    "\n",
    "### 4. while \n",
    "#### use when you cannot predict how many times to loop\n",
    "```python\n",
    "name_list\n",
    "request = 'Type / to quit or type a name to add: '\n",
    "name = input(request)\n",
    "while name != '/':\n",
    "    # do something with the name (maybe append it to a list)\n",
    "    name_list.append(name)\n",
    "    # get another \n",
    "    name = input(request)\n",
    "#\n",
    "\n",
    "```\n",
    "\n",
    "### 5. define a function\n",
    "#### Given one or more values, return an answer\n",
    "```python\n",
    "def compute_value(a, b, c):\n",
    "    ''' compute c * sum of first two numbers'''\n",
    "    result = (a + b) * c\n",
    "    return result\n",
    "# \n",
    "```\n",
    "\n",
    "### 6. pandas\n",
    "#### get and filter data from web or file with pandas\n",
    "```python\n",
    "import pandas as pd\n",
    "# can read a .csv (comma separated file) all in one statement\n",
    "url = 'http://some_pathtoafile'\n",
    "my_data = pd.read_csv(url)\n",
    "\n",
    "who = 'Taylor'\n",
    "results = my_data.query('name == @who') # query the pandas data\n",
    "```"
   ]
  },
  {
   "cell_type": "markdown",
   "metadata": {},
   "source": [
    "### Iteration - Repeat number times\n",
    "#### for some_variable in range(number):  # Repeat number times"
   ]
  },
  {
   "cell_type": "code",
   "execution_count": 14,
   "metadata": {
    "collapsed": false
   },
   "outputs": [
    {
     "name": "stdout",
     "output_type": "stream",
     "text": [
      "Chant with me\n",
      "Chant with me\n",
      "Chant with me\n",
      "Chant with me\n",
      "Chant with me\n",
      "Chant with me\n",
      "Chant with me\n",
      "Chant with me\n",
      "Chant with me\n",
      "Chant with me\n",
      "Chant with me\n",
      "Chant with me\n",
      "Chant with me\n",
      "Chant with me\n",
      "Chant with me\n",
      "Chant with me\n",
      "Chant with me\n"
     ]
    }
   ],
   "source": [
    "# Repeat 17 times\n",
    "for i in range (17):\n",
    "    print(\"Chant with me\")"
   ]
  },
  {
   "cell_type": "code",
   "execution_count": 13,
   "metadata": {
    "collapsed": false
   },
   "outputs": [
    {
     "name": "stdout",
     "output_type": "stream",
     "text": [
      "Repeat how many times (1-7) 3\n",
      "Go Ducks!\n",
      "Go Ducks!\n",
      "Go Ducks!\n"
     ]
    }
   ],
   "source": [
    "# Repeat n times\n",
    "typing = input(\"Repeat how many times (1-7) \")\n",
    "n = int(typing)\n",
    "for count in range(n):\n",
    "    print(\"Go Ducks!\")\n"
   ]
  },
  {
   "cell_type": "markdown",
   "metadata": {},
   "source": [
    "### Iteration - Example\n",
    "#### a_list = ['Alpha', 'Bravo', 'Charlee', 'Data']\n",
    "#### for some_index in range(len(a_list): "
   ]
  },
  {
   "cell_type": "code",
   "execution_count": 12,
   "metadata": {
    "collapsed": false
   },
   "outputs": [
    {
     "name": "stdout",
     "output_type": "stream",
     "text": [
      "['Alpha', 'Bravo', 'Charlie', 'Data', 'Echo']\n"
     ]
    }
   ],
   "source": [
    "# This is just a test list; our real list has 17,477 items\n",
    "# so you need a program to examine the list for known bad values\n",
    "\n",
    "a_list = ['Alpha', 'Bravo', 'Charlee', 'Data', 'Echo']\n",
    "# Iterate\n",
    "# Check each item in list for known errors\n",
    "# Change wrong items to right values\n",
    "for index in range(len(a_list)):\n",
    "    item = a_list[index]\n",
    "    if item == 'Charlee':\n",
    "        a_list[index] = 'Charlie'\n",
    "    if item == 'Data':\n",
    "        a_list[index] = 'Data'\n",
    "    #\n",
    "#\n",
    "print(a_list)"
   ]
  },
  {
   "cell_type": "markdown",
   "metadata": {},
   "source": [
    "### Iteration -- Example\n",
    "#### transportation_list = ['Plane', 'Bike', 'Train', 'Cable Car', 'Auto', 'Truck', 'Canoe']\n",
    "#### for each_item in transportation_list:\n"
   ]
  },
  {
   "cell_type": "code",
   "execution_count": 9,
   "metadata": {
    "collapsed": false,
    "scrolled": true
   },
   "outputs": [
    {
     "name": "stdout",
     "output_type": "stream",
     "text": [
      "Plane use in any city\n",
      "Bike use in any city\n",
      "Train use in any city\n",
      "Cable Car -- only use in San Francisco\n",
      "Auto use in any city\n",
      "Truck use in any city\n",
      "Canoe use in any city\n"
     ]
    }
   ],
   "source": [
    "transportation_list = ['Plane', 'Bike', 'Train', 'Cable Car', \n",
    "          'Auto', 'Truck', 'Canoe']\n",
    "for each_item in transportation_list:\n",
    "    if each_item == 'Cable Car':\n",
    "        comment = '-- only use in San Francisco'\n",
    "    else:\n",
    "        comment = 'use in any city'\n",
    "    print(each_item, comment) # all on the same line\n",
    "#"
   ]
  },
  {
   "cell_type": "code",
   "execution_count": 10,
   "metadata": {
    "collapsed": false
   },
   "outputs": [
    {
     "name": "stdout",
     "output_type": "stream",
     "text": [
      "Plane\n",
      "Bike\n",
      "Train\n",
      "Cable Car\n",
      "Auto\n",
      "Truck\n",
      "Canoe\n",
      "Monorail\n",
      "\n",
      "Done\n"
     ]
    }
   ],
   "source": [
    "transportation_list.append('Monorail')\n",
    "for each_vehicle in transportation_list:\n",
    "    print(each_vehicle)\n",
    "#\n",
    "print(\"\\nDone\")"
   ]
  },
  {
   "cell_type": "markdown",
   "metadata": {},
   "source": [
    "## Iteration - Example\n",
    "### going through keys in a dictionary"
   ]
  },
  {
   "cell_type": "code",
   "execution_count": 8,
   "metadata": {
    "collapsed": false
   },
   "outputs": [
    {
     "name": "stdout",
     "output_type": "stream",
     "text": [
      "NV pinyon pine\n",
      "WA western hemlock\n",
      "OR douglas fir\n",
      "ID white pine\n"
     ]
    }
   ],
   "source": [
    "state_trees_dict = {'WA': 'western hemlock', 'ID': 'white pine', \n",
    "                    'OR': 'douglas fir', 'NV': 'pinyon pine'}\n",
    "# Here the keys are 'WA', 'ID', 'OR', 'NV'\n",
    "\n",
    "for key_state in state_trees_dict:\n",
    "    tree = state_trees_dict[key_state]\n",
    "    print(key_state, tree)"
   ]
  },
  {
   "cell_type": "code",
   "execution_count": 7,
   "metadata": {
    "collapsed": false
   },
   "outputs": [
    {
     "name": "stdout",
     "output_type": "stream",
     "text": [
      "ID white pine\n",
      "NV pinyon pine\n",
      "OR douglas fir\n",
      "WA western hemlock\n"
     ]
    }
   ],
   "source": [
    "# Sort the keys\n",
    "state_trees_dict = {'WA': 'western hemlock', 'ID': 'white pine', \n",
    "                    'OR': 'douglas fir', 'NV': 'pinyon pine'}\n",
    "# Here the keys are 'WA', 'ID', 'OR', 'NV'\n",
    "\n",
    "for key_state in sorted(state_trees_dict):\n",
    "    #            ******\n",
    "    tree = state_trees_dict[key_state]\n",
    "    print(key_state, tree)"
   ]
  },
  {
   "cell_type": "markdown",
   "metadata": {},
   "source": [
    "## Iteration - Example using while\n",
    "### while some_condition is true"
   ]
  },
  {
   "cell_type": "code",
   "execution_count": 6,
   "metadata": {
    "collapsed": false
   },
   "outputs": [
    {
     "name": "stdout",
     "output_type": "stream",
     "text": [
      "Name of animal or / to stop: Elk\n",
      "Name of animal or / to stop: Duck\n",
      "Name of animal or / to stop: Wolf\n",
      "Name of animal or / to stop: Dog\n",
      "Name of animal or / to stop: /\n",
      "\n",
      "Animals in our list\n",
      "Elk\n",
      "Duck\n",
      "Wolf\n",
      "Dog\n",
      "Done!\n"
     ]
    }
   ],
   "source": [
    "animal_list = [ ] # start with empty list\n",
    "request = 'Name of animal or / to stop: '\n",
    "animal_name = input(request)\n",
    "while animal_name != '/':\n",
    "    animal_list.append(animal_name)\n",
    "    \n",
    "    # Must get another or we'll get stuck in infinite loop\n",
    "    animal_name = input(request)\n",
    "#\n",
    "print(\"\\nAnimals in our list\")\n",
    "for animal in animal_list:\n",
    "    print(animal)\n",
    "#\n",
    "print(\"Done!\")"
   ]
  },
  {
   "cell_type": "markdown",
   "metadata": {},
   "source": [
    "# Filter\n",
    "## Create a filtered list from a large list\n",
    "### 1. Create an empty filtered list\n",
    "### 2. Iterate through the large list,\n",
    "### 3. If an item qualifies, append it to the filtered list"
   ]
  },
  {
   "cell_type": "code",
   "execution_count": 5,
   "metadata": {
    "collapsed": false
   },
   "outputs": [
    {
     "name": "stdout",
     "output_type": "stream",
     "text": [
      "Luxury car prices\n",
      "Total: $ 238400\n",
      "Number of luxury cars 3\n",
      "Average cost $ 79466.67\n"
     ]
    }
   ],
   "source": [
    "car_prices = [12675, 19200, 22500, 37300, 58900, 72000, 107500, 5000]\n",
    "luxury_car_prices = []   # luxury cars cost more than $50,000\n",
    "\n",
    "# Iterate, selecting the luxury car prices\n",
    "for price in car_prices:\n",
    "    if price > 50000:\n",
    "        # filtered_list.append(value)\n",
    "        # Adds the price to the end of the luxury car prices list\n",
    "        luxury_car_prices.append(price)\n",
    "    #\n",
    "#\n",
    "\n",
    "# Get some info about the filetered data\n",
    "total_luxury_car_prices = sum(luxury_car_prices)\n",
    "number_of_luxury_cars = len(luxury_car_prices)\n",
    "average_luxury_price = \\\n",
    "    round(total_luxury_car_prices / number_of_luxury_cars, 2)\n",
    "    \n",
    "print(\"Luxury car prices\")\n",
    "print(\"Total: $\", total_luxury_car_prices)\n",
    "print(\"Number of luxury cars\", number_of_luxury_cars)\n",
    "print(\"Average cost $\", average_luxury_price)   "
   ]
  },
  {
   "cell_type": "markdown",
   "metadata": {},
   "source": [
    "# Put into categories   if    elif    elif  elif   else"
   ]
  },
  {
   "cell_type": "code",
   "execution_count": 4,
   "metadata": {
    "collapsed": false
   },
   "outputs": [
    {
     "name": "stdout",
     "output_type": "stream",
     "text": [
      "17 is Unacceptable\n",
      "98 is Excellent\n",
      "100 is Excellent\n",
      "54 is Unacceptable\n",
      "56 is Poor\n",
      "65 is OK\n",
      "72 is OK\n",
      "89 is Good\n",
      "90 is Excellent\n"
     ]
    }
   ],
   "source": [
    "# Prineville University wants to change scores into words\n",
    "# range of scores      word\n",
    "#   90 - 100           \"Excellent\"\n",
    "#   78 - 89            \"Good\"\n",
    "#   65 - 77            \"OK\"\n",
    "#   55 - 64            \"Poor\"\n",
    "#   0  - 54            \"Unacceptable\"\n",
    "\n",
    "score_list = [17, 98, 100, 54, 56, 65, 72, 89, 90]\n",
    "word_list  = [ ]\n",
    "\n",
    "for score in score_list:\n",
    "    if score >= 90:\n",
    "        word = \"Excellent\"\n",
    "        # at this point, Python jumps past all remaining elifs and else\n",
    "    elif score >= 78:\n",
    "        word = \"Good\"\n",
    "        # at this point, Python jumps past all remaining elifs and else\n",
    "    elif score >= 65:\n",
    "        word = \"OK\"\n",
    "        # at this point, Python jumps past all remaining elifs and else\n",
    "    elif score >= 55:\n",
    "        word = \"Poor\"\n",
    "        # at this point, Python jumps past the remaining else        \n",
    "    else:\n",
    "        word = \"Unacceptable\"\n",
    "    #\n",
    "    # Add word to word_list\n",
    "    word_list.append(word)\n",
    "#\n",
    "\n",
    "n = len(score_list)\n",
    "for index in range(n):\n",
    "    score = score_list[index]\n",
    "    word = word_list[index]\n",
    "    print(score, 'is', word)\n",
    "#"
   ]
  },
  {
   "cell_type": "markdown",
   "metadata": {},
   "source": [
    "## pandas Example - to read, then filter data"
   ]
  },
  {
   "cell_type": "code",
   "execution_count": 15,
   "metadata": {
    "collapsed": false,
    "scrolled": true
   },
   "outputs": [
    {
     "data": {
      "text/html": [
       "<div>\n",
       "<table border=\"1\" class=\"dataframe\">\n",
       "  <thead>\n",
       "    <tr style=\"text-align: right;\">\n",
       "      <th></th>\n",
       "      <th>name</th>\n",
       "      <th>gender</th>\n",
       "      <th>count</th>\n",
       "    </tr>\n",
       "  </thead>\n",
       "  <tbody>\n",
       "    <tr>\n",
       "      <th>0</th>\n",
       "      <td>Emily</td>\n",
       "      <td>F</td>\n",
       "      <td>21385</td>\n",
       "    </tr>\n",
       "    <tr>\n",
       "      <th>1</th>\n",
       "      <td>Emma</td>\n",
       "      <td>F</td>\n",
       "      <td>19104</td>\n",
       "    </tr>\n",
       "    <tr>\n",
       "      <th>2</th>\n",
       "      <td>Madison</td>\n",
       "      <td>F</td>\n",
       "      <td>18610</td>\n",
       "    </tr>\n",
       "    <tr>\n",
       "      <th>3</th>\n",
       "      <td>Isabella</td>\n",
       "      <td>F</td>\n",
       "      <td>18212</td>\n",
       "    </tr>\n",
       "    <tr>\n",
       "      <th>4</th>\n",
       "      <td>Ava</td>\n",
       "      <td>F</td>\n",
       "      <td>16935</td>\n",
       "    </tr>\n",
       "  </tbody>\n",
       "</table>\n",
       "</div>"
      ],
      "text/plain": [
       "       name gender  count\n",
       "0     Emily      F  21385\n",
       "1      Emma      F  19104\n",
       "2   Madison      F  18610\n",
       "3  Isabella      F  18212\n",
       "4       Ava      F  16935"
      ]
     },
     "execution_count": 15,
     "metadata": {},
     "output_type": "execute_result"
    }
   ],
   "source": [
    "import pandas as pd\n",
    "\n",
    "url = 'http://www.cs.uoregon.edu/Classes/17W/cis122/data/yob2006.csv'\n",
    "name_data = pd.read_csv(url)\n",
    "name_data[0:5] # show 1st 5 rows of data\n",
    "# Emily F 21385\n",
    "# in 2006, \"Emily\" was the name for 21385 Female babies (\"F\") born in USA\n",
    "# Column names\n",
    "#   name    baby name such as 'Madison'\n",
    "#   gender  F or M\n",
    "#   count   int number of babies born with this name"
   ]
  },
  {
   "cell_type": "markdown",
   "metadata": {},
   "source": [
    "## filter pandas data to names_found"
   ]
  },
  {
   "cell_type": "code",
   "execution_count": 2,
   "metadata": {
    "collapsed": false
   },
   "outputs": [
    {
     "data": {
      "text/html": [
       "<div>\n",
       "<table border=\"1\" class=\"dataframe\">\n",
       "  <thead>\n",
       "    <tr style=\"text-align: right;\">\n",
       "      <th></th>\n",
       "      <th>name</th>\n",
       "      <th>gender</th>\n",
       "      <th>count</th>\n",
       "    </tr>\n",
       "  </thead>\n",
       "  <tbody>\n",
       "    <tr>\n",
       "      <th>2</th>\n",
       "      <td>Madison</td>\n",
       "      <td>F</td>\n",
       "      <td>18610</td>\n",
       "    </tr>\n",
       "    <tr>\n",
       "      <th>22037</th>\n",
       "      <td>Madison</td>\n",
       "      <td>M</td>\n",
       "      <td>67</td>\n",
       "    </tr>\n",
       "  </tbody>\n",
       "</table>\n",
       "</div>"
      ],
      "text/plain": [
       "          name gender  count\n",
       "2      Madison      F  18610\n",
       "22037  Madison      M     67"
      ]
     },
     "execution_count": 2,
     "metadata": {},
     "output_type": "execute_result"
    }
   ],
   "source": [
    "who = 'Madison'\n",
    "# in a query string, @xxx refers to a variable xxx\n",
    "names_found = name_data.query('name == @who') # @who means the variable who\n",
    "names_found"
   ]
  },
  {
   "cell_type": "markdown",
   "metadata": {},
   "source": [
    "## define a function\n",
    "### it will return an answer to the caller"
   ]
  },
  {
   "cell_type": "code",
   "execution_count": 3,
   "metadata": {
    "collapsed": false
   },
   "outputs": [
    {
     "name": "stdout",
     "output_type": "stream",
     "text": [
      "17 integer divided by 3 gives 2 remainder\n"
     ]
    }
   ],
   "source": [
    "# define a function\n",
    "def compute_remainder(amount, divisor):\n",
    "    '''\n",
    "        Given an integer amount, \n",
    "        compute the remainder of integer dividing\n",
    "        amount by divisor\n",
    "        \n",
    "        Divisor must be integer, not 0\n",
    "        \n",
    "        Example:\n",
    "        x = compute_remainder(5, 2))\n",
    "        print(x)\n",
    "        prints 1 \n",
    "        \n",
    "    '''\n",
    "    remainder = amount % divisor\n",
    "    return remainder\n",
    "\n",
    "# Define function name (one or more parameter names) : colon\n",
    "#    '''\n",
    "#       Optional notes describing purpose, use of function\n",
    "#    '''\n",
    "     # One or more statements, indented\n",
    "     # return result   # Sends back a result value, exits function\n",
    "\n",
    "# First unindented statement ends function\n",
    "\n",
    "x = 17\n",
    "y = 3\n",
    "left_over = compute_remainder(x, y)\n",
    "# This function needs two argument values\n",
    "# The names of the arguments don't matter\n",
    "# The function treats them as \"first argument\" and \"second argument\"\n",
    "\n",
    "print(x, 'integer divided by', y, 'gives', left_over, 'remainder')"
   ]
  }
 ],
 "metadata": {
  "anaconda-cloud": {},
  "kernelspec": {
   "display_name": "Python [conda root]",
   "language": "python",
   "name": "conda-root-py"
  },
  "language_info": {
   "codemirror_mode": {
    "name": "ipython",
    "version": 3
   },
   "file_extension": ".py",
   "mimetype": "text/x-python",
   "name": "python",
   "nbconvert_exporter": "python",
   "pygments_lexer": "ipython3",
   "version": "3.5.2"
  }
 },
 "nbformat": 4,
 "nbformat_minor": 2
}

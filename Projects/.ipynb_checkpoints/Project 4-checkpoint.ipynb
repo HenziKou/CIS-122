{
 "cells": [
  {
   "cell_type": "markdown",
   "metadata": {},
   "source": [
    "# Part A"
   ]
  },
  {
   "cell_type": "markdown",
   "metadata": {},
   "source": [
    "### # 1"
   ]
  },
  {
   "cell_type": "code",
   "execution_count": null,
   "metadata": {
    "collapsed": false
   },
   "outputs": [],
   "source": [
    "def input_int(request_string):\n",
    "    user_string = input(request_string)\n",
    "    result = float(user_string)\n",
    "    return result\n",
    "    \n",
    "# ===============================================\n",
    "# Do not change this - it will call your function\n",
    "# \n",
    "prompt = \"How many sea gulls did you see today? \"\n",
    "seagulls = input_int(prompt)\n",
    "print(\"You saw\", seagulls, \"seagulls today\")\n",
    "\n",
    "computer_count = input_int(\"How many laptops computers do you own? \")\n",
    "print(\"You own\", computer_count, \"laptop computers\")"
   ]
  },
  {
   "cell_type": "markdown",
   "metadata": {},
   "source": [
    "### # 2"
   ]
  },
  {
   "cell_type": "code",
   "execution_count": null,
   "metadata": {
    "collapsed": false
   },
   "outputs": [],
   "source": [
    "def input_float(request_string): # You fill in the rest of the function definition\n",
    "    user_string = input(request_string)\n",
    "    result = float(user_string)\n",
    "    return result\n",
    "    \n",
    "# ===============================================\n",
    "# Do not change this - it will call your function\n",
    "#\n",
    "price_prompt = \"How much does a gallon of gas cost today? \"\n",
    "gas_price = input_float(price_prompt)\n",
    "print(\"Gas costs $\", gas_price, \"per gallon today\")\n",
    "\n",
    "latte_prompt = \"How much does a Starbucks 20 ounce latte cost? \"\n",
    "latte_cost = input_float(latte_prompt)\n",
    "print(\"Starbucks charges about\", latte_cost, \"for a large latte\")"
   ]
  },
  {
   "cell_type": "markdown",
   "metadata": {},
   "source": [
    "### # 3"
   ]
  },
  {
   "cell_type": "code",
   "execution_count": null,
   "metadata": {
    "collapsed": false
   },
   "outputs": [],
   "source": [
    "def inches_to_feet(inches): # You fill in the rest of the function definition\n",
    "    user_string = input(inches)\n",
    "    result = float(user_string)\n",
    "    return result\n",
    "    \n",
    "# ===============================================\n",
    "# Do not change this - it will call your function\n",
    "#\n",
    "number_of_inches = 36\n",
    "number_of_feet = inches_to_feet(number_of_inches)\n",
    "\n",
    "my_distance = 11.8 # inches\n",
    "my_feet = inches_to_feet(my_distance)\n",
    "\n",
    "print(number_of_inches, 'inches =', number_of_feet, 'feet')\n",
    "print(my_distance, 'inches =', my_feet, 'feet')"
   ]
  },
  {
   "cell_type": "code",
   "execution_count": null,
   "metadata": {
    "collapsed": false
   },
   "outputs": [
    {
     "name": "stdout",
     "output_type": "stream",
     "text": [
      "3636\n"
     ]
    }
   ],
   "source": [
    "def inches_to_feet(inches): # You fill in the rest of the function definition\n",
    "    user_string = input(inches)\n",
    "    result = float(user_string)\n",
    "    return result / 12\n",
    "    \n",
    "# ===============================================\n",
    "# Do not change this - it will call your function\n",
    "#\n",
    "number_of_inches = 36\n",
    "number_of_feet = inches_to_feet(number_of_inches)\n",
    "\n",
    "my_distance = 11.8 # inches\n",
    "my_feet = inches_to_feet(my_distance)\n",
    "\n",
    "print(number_of_inches, 'inches =', number_of_feet, 'feet')\n",
    "print(my_distance, 'inches =', my_feet, 'feet')"
   ]
  },
  {
   "cell_type": "markdown",
   "metadata": {},
   "source": [
    "### # 4"
   ]
  },
  {
   "cell_type": "code",
   "execution_count": null,
   "metadata": {
    "collapsed": false
   },
   "outputs": [],
   "source": [
    "def feet_to_inches(feet): # You fill in the rest of the function definition\n",
    "    user_string = input(feet)\n",
    "    result = float(user_string)\n",
    "    return result\n",
    "    \n",
    "number_of_feet = 5\n",
    "number_of_inches = feet_to_inches(number_of_feet)\n",
    "\n",
    "distance = 10.5 # feet\n",
    "distance_in_inches = feet_to_inches(distance)\n",
    "\n",
    "print(number_of_inches, 'inches =', number_of_feet, 'feet')\n",
    "print(distance_in_inches, 'inches =', distance, 'feet')"
   ]
  },
  {
   "cell_type": "markdown",
   "metadata": {},
   "source": [
    "### # 4"
   ]
  },
  {
   "cell_type": "code",
   "execution_count": null,
   "metadata": {
    "collapsed": false
   },
   "outputs": [],
   "source": [
    "def C_to_F(C_degrees): # You fill in the rest of the function definition\n",
    "    user_string = input(C_degrees)\n",
    "    result = float(user_string)\n",
    "    return result\n",
    "    \n",
    "# ===============================================\n",
    "# Do not change this - it will call your function\n",
    "#\n",
    "C_temperature = 20\n",
    "F_degrees = C_to_F(C_temperature)\n",
    "print(C_temperature, 'degrees C =', F_degrees, 'degrees F')"
   ]
  },
  {
   "cell_type": "markdown",
   "metadata": {},
   "source": [
    "### # 5"
   ]
  },
  {
   "cell_type": "code",
   "execution_count": null,
   "metadata": {
    "collapsed": true
   },
   "outputs": [],
   "source": [
    "def C_to_F(C_degrees): # You fill in the rest of the function definition\n",
    "    \n",
    "    \n",
    "# ===============================================\n",
    "# Do not change this - it will call your function\n",
    "#\n",
    "C_temperature = 20\n",
    "F_degrees = C_to_F(C_temperature)\n",
    "print(C_temperature, 'degrees C =', F_degrees, 'degrees F')"
   ]
  },
  {
   "cell_type": "markdown",
   "metadata": {},
   "source": [
    "### # 6"
   ]
  },
  {
   "cell_type": "code",
   "execution_count": null,
   "metadata": {
    "collapsed": true
   },
   "outputs": [],
   "source": [
    "def miles_to_km(miles): # You fill in the rest of the function definition\n",
    "    \n",
    "    \n",
    "# ===============================================\n",
    "# Do not change this - it will call your function\n",
    "miles_run = 3.1\n",
    "km_run = miles_to_km(miles_run)\n",
    "\n",
    "print(miles_run, 'miles =', km_run, 'km')"
   ]
  },
  {
   "cell_type": "markdown",
   "metadata": {},
   "source": [
    "### # 7"
   ]
  },
  {
   "cell_type": "code",
   "execution_count": null,
   "metadata": {
    "collapsed": true
   },
   "outputs": [],
   "source": [
    "def km_to_miles(km): # You fill in the rest of the function definition\n",
    "    \n",
    "    \n",
    "# ===============================================\n",
    "# Do not change this - it will call your function\n",
    "kilometers = 5.0\n",
    "miles = km_to_miles(kilometers)\n",
    "\n",
    "print(miles, 'miles =', kilometers, 'km')"
   ]
  },
  {
   "cell_type": "markdown",
   "metadata": {},
   "source": [
    "### # 7"
   ]
  },
  {
   "cell_type": "code",
   "execution_count": null,
   "metadata": {
    "collapsed": false
   },
   "outputs": [],
   "source": [
    "radiation_levels = [0.2, 0.4, 7.6, 1.1, 0.98, 4.7, 0.5, 3.2, 4.8, 0.2]\n",
    "high_radiation = []\n",
    "\n",
    "for levels in radiation_levels:\n",
    "    if levels > 1.0:\n",
    "        print(levels)\n",
    "        high_radiation.append(levels)\n",
    "    else:\n",
    "        print(levels)\n",
    "        \n",
    "print(\"This is the new list of radiation levels greater than 1\", high_radiation)"
   ]
  },
  {
   "cell_type": "markdown",
   "metadata": {},
   "source": [
    "### # 8"
   ]
  },
  {
   "cell_type": "code",
   "execution_count": null,
   "metadata": {
    "collapsed": true
   },
   "outputs": [],
   "source": [
    "radiation_levels = [0.2, 0.4, 7.6, 1.1, 0.98, 4.7, 0.5, 3.2, 4.8]"
   ]
  },
  {
   "cell_type": "markdown",
   "metadata": {},
   "source": [
    "### # 9"
   ]
  },
  {
   "cell_type": "code",
   "execution_count": null,
   "metadata": {
    "collapsed": true
   },
   "outputs": [],
   "source": [
    "# Python has a way to handle else if -- the elif keyword (sort of mashes else and if together).\n",
    "if some condition:\n",
    " # indented block\n",
    " # at end of block, skips past all remaining elif and else's.\n",
    "elif some condition:\n",
    " # indented block\n",
    " # at end of block, skips past all remaining elif and else's.\n",
    "elif some condition:\n",
    " # indented block\n",
    " # at end of block, skips past all remaining elif and else's.\n",
    "...\n",
    "else:\n",
    " # indented block\n",
    "# all paths rejoin here at first unindented statement after else\n",
    "\n",
    "def get_grade(score): # You fill in the rest of the function definition\n",
    "    \n",
    "    \n",
    "# ==============================\n",
    "# Test your function\n",
    "# Repeat some tests\n",
    "# Ask for points earned on an assignment\n",
    "# (Be sure to convert the answer to a number)\n",
    "# Call the get_grade function giving it the points\n",
    "# print the points and the letter grade"
   ]
  },
  {
   "cell_type": "markdown",
   "metadata": {},
   "source": [
    "### # 10"
   ]
  },
  {
   "cell_type": "code",
   "execution_count": null,
   "metadata": {
    "collapsed": true
   },
   "outputs": [],
   "source": [
    "a = 6\n",
    "b = 3\n",
    "remainder = a % b\n",
    "if remainder == 0:\n",
    " print(b, 'divides', a)\n",
    "else:\n",
    " print(b, 'does not divide', a, 'remainder is', remainder)\n",
    "\n",
    "def leap_year(year): # You fill in the rest of the function definition\n",
    "    \n",
    "    \n",
    "# Some tests to run to see if leap year is defined correctly.\n",
    "\n",
    "year = 1900\n",
    "leap = leap_year(year)\n",
    "if leap == 1:\n",
    " print(year, 'is a leap year')\n",
    "else:\n",
    " print(year, 'not a leap year')\n",
    "year = 1977\n",
    "leap = leap_year(year)\n",
    "if leap == 1:\n",
    " print(year, 'is a leap year')\n",
    "else:\n",
    " print(year, 'not a leap year')\n",
    "year = 2000\n",
    "leap = leap_year(year)\n",
    "if leap == 1:\n",
    " print(year, 'is a leap year')\n",
    "else:\n",
    " print(year, 'not a leap year')\n",
    "year = 2004\n",
    "leap = leap_year(year)\n",
    "if leap == 1:\n",
    " print(year, 'is a leap year')\n",
    "else:\n",
    " print(year, 'not a leap year')"
   ]
  },
  {
   "cell_type": "markdown",
   "metadata": {},
   "source": [
    "## Challenge"
   ]
  },
  {
   "cell_type": "code",
   "execution_count": null,
   "metadata": {
    "collapsed": true
   },
   "outputs": [],
   "source": []
  }
 ],
 "metadata": {
  "anaconda-cloud": {},
  "kernelspec": {
   "display_name": "Python [conda root]",
   "language": "python",
   "name": "conda-root-py"
  },
  "language_info": {
   "codemirror_mode": {
    "name": "ipython",
    "version": 3
   },
   "file_extension": ".py",
   "mimetype": "text/x-python",
   "name": "python",
   "nbconvert_exporter": "python",
   "pygments_lexer": "ipython3",
   "version": "3.5.2"
  }
 },
 "nbformat": 4,
 "nbformat_minor": 1
}

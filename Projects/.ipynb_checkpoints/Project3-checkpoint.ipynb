{
 "cells": [
  {
   "cell_type": "markdown",
   "metadata": {
    "collapsed": true
   },
   "source": [
    "# Project 3 by Henzi Kou"
   ]
  },
  {
   "cell_type": "markdown",
   "metadata": {},
   "source": [
    "### Part A    Get input data, convert to a number as needed\n",
    "*6 points* (1 point for input data, 1 point for conversion if any)\n",
    "\n",
    "Using the **input( )** function to get *data from a user*<br>\n",
    "```python\n",
    "my_major = input(\"Type your major: \")\n",
    "\n",
    "Type your major: \n",
    "\n",
    "# (Now the person using the program types something like MATH)\n",
    "\n",
    "```\n",
    "\n",
    "Converting typed data (str) to a whole number (int)<br>\n",
    "```python\n",
    "my_answer = input(\"How many laptop computers do you own? \")\n",
    "print(type(my_answer))\n",
    "\n",
    "# convert to an int (whole number)\n",
    "computers = int(my_answer)\n",
    "print(type(computers))\n",
    "print(\"You own\", computers, \"laptops\")\n",
    "\n",
    "# User sees\n",
    "How many computers do you own? 1\n",
    "\n",
    "<class str>     # from print(type(my_answer)) \n",
    "<class int>     # from print(type(computers)) \n",
    "You own 1 laptops\n",
    "\n",
    "```\n",
    "Get the **name** of a person (it is a string so no conversion needed)<br>\n",
    "Get the person's **age** and **convert** the answer to an **int** (whole number)<br>\n",
    "Get the **price** of an item and **convert** it to a **float** (decimal number)<br>\n",
    "\n",
    "Print the person's name and age<br>\n",
    "Print how old the person will be 3 years from now<br>\n",
    "Print the total due after adding a 10% sales tax to the price"
   ]
  },
  {
   "cell_type": "code",
   "execution_count": 38,
   "metadata": {
    "collapsed": false
   },
   "outputs": [
    {
     "name": "stdout",
     "output_type": "stream",
     "text": [
      "Insert your name here Sam\n",
      "Insert your age here 20\n",
      "\n",
      "Sam\n",
      "In 3 years you will be 23 years old.\n",
      "\n",
      "Total price of purchased items: 100\n",
      "Price      $ 100.0\n",
      "Sales tax  $ 10.0\n",
      "Please pay $ 110.0\n"
     ]
    }
   ],
   "source": [
    "# Your Python goes here:\n",
    "\n",
    "your_name = input(\"Insert your name here \")\n",
    "your_age = int(input(\"Insert your age here \"))\n",
    "\n",
    "print()\n",
    "print(your_name)\n",
    "\n",
    "years_later = 3\n",
    "sum = your_age + years_later\n",
    "print(\"In 3 years you will be\", sum, \"years old.\")\n",
    "print()\n",
    "\n",
    "\n",
    "def compute_sales_tax(amount):\n",
    "    tax_rate = 0.10\n",
    "    tax = amount * tax_rate\n",
    "    return tax  # exit function, sending tax as the value\n",
    "\n",
    "total_price_string = input(\"Total price of purchased items: \")\n",
    "total_price = float(total_price_string)\n",
    "\n",
    "sales_tax = compute_sales_tax(total_price)\n",
    "total_due = total_price + sales_tax\n",
    "\n",
    "print(\"Price      $\", total_price)\n",
    "print(\"Sales tax  $\", sales_tax)\n",
    "print(\"Please pay $\", total_due)"
   ]
  },
  {
   "cell_type": "markdown",
   "metadata": {},
   "source": [
    "### Part B\n",
    "*6 points*<br>\n",
    "Work with **static lists**; **iterate**"
   ]
  },
  {
   "cell_type": "code",
   "execution_count": null,
   "metadata": {
    "collapsed": false
   },
   "outputs": [],
   "source": [
    "# Official low daily temperatures, Eugene, 2017 through Jan 19\n",
    " \n",
    "low_temperatures = [32, 29, 24, 21, 13, 13, 24, 28, 35, 34,\n",
    "                    29, 26, 24, 21, 21, 24, 27, 45, 40]\n",
    "\n",
    "# a) Iterate through the list displaying each temperature on a separate line\n",
    "#    1 point (iterate)\n",
    "\n",
    "for temperatures in low_temperatures:\n",
    "    print(temperatures)"
   ]
  },
  {
   "cell_type": "code",
   "execution_count": null,
   "metadata": {
    "collapsed": false
   },
   "outputs": [],
   "source": [
    "#  b)Iterate again, but add a comment 'Freeze' for each day the \n",
    "#    temperature is 32 or lower.  2 points (iterate, Freeze)\n",
    "\n",
    "low_temperatures = [32, 29, 24, 21, 13, 13, 24, 28, 35, 34,\n",
    "                    29, 26, 24, 21, 21, 24, 27, 45, 40]\n",
    "\n",
    "special_message = \"Freeze\"\n",
    "normal_message = \"\"\n",
    "\n",
    "for temperature in low_temperatures:\n",
    "    if temperature <= 32:\n",
    "        message = special_message\n",
    "    else:\n",
    "        message = normal_message\n",
    "    print(temperature, message)\n",
    "    print()"
   ]
  },
  {
   "cell_type": "code",
   "execution_count": null,
   "metadata": {
    "collapsed": false
   },
   "outputs": [],
   "source": [
    "#  c)Iterate again, adding a comment \"Coldest\" on the coldest day or \n",
    "#    days and adding a comment \"Warmest\" on the warmest day or days\n",
    "#    3 points (iterate, Coldest, Warmest)\n",
    "\n",
    "low_temperatures = [32, 29, 24, 21, 13, 13, 24, 28, 35, 34,\n",
    "                    29, 26, 24, 21, 21, 24, 27, 45, 40]\n",
    "\n",
    "special_message = \"Freeze\"\n",
    "normal_message = \"\"\n",
    "message_1 = \"Coldest\"\n",
    "message_2 = \"Warmest\"\n",
    "\n",
    "for temperature in low_temperatures:\n",
    "    if temperature <= 32:\n",
    "        message = special_message\n",
    "        if temperature == min(low_temperatures):\n",
    "            message = message_1\n",
    "    else:\n",
    "        message = normal_message\n",
    "        if temperature == max(low_temperatures):\n",
    "            message = message_2\n",
    "    print(temperature, message)\n",
    "    print()"
   ]
  },
  {
   "cell_type": "markdown",
   "metadata": {},
   "source": [
    "### Part C  modify individual items in a list\n",
    "*6 points*<br>\n",
    "Use index values to **modify** values of individual items in a list\n",
    "\n",
    "Why are we setting limits on what you can do to clean up our list?\n",
    "Later, we will be reading **files** or **web pages** to gather lots of data; some of it will need fixing.<br> \n",
    "\n",
    "If you just type corrections to the data and fix, say 20, bad names but then need to rerun your program, you will have to type all 20 fixes yet again.<br>\n",
    "\n",
    "Instead, *using your program to make fixes is a better idea*.\n",
    "So that is what we are practicing in this exercise."
   ]
  },
  {
   "cell_type": "code",
   "execution_count": null,
   "metadata": {
    "collapsed": false
   },
   "outputs": [],
   "source": [
    "#           0            1         2        3          4\n",
    "cities = ['Portland', 'Salen', 'Eugene', 'Medford', 'Beaverton']\n",
    "# Do NOT MODIFY the line above or you will get 0 points.\n",
    "\n",
    "# Instead write a Python statement to modify the item with 'Salen';\n",
    "# update it to have the value 'Salem'\n",
    "# Write your Python below.\n",
    "# 2 points\n",
    "\n",
    "cities[1] = \"Salem\"\n",
    "\n",
    "# Write Python to find the length (number of items) in the cities list.\n",
    "# 1 point\n",
    "\n",
    "len(cities)\n",
    "\n",
    "# Write Python to change the last city in the list to 'Ashland'\n",
    "# 2 points\n",
    "\n",
    "cities[4] = \"Ashland\"\n",
    "\n",
    "# Iterate through the list, printing each city from the modified list,\n",
    "# one city per line\n",
    "# 1 point\n",
    "\n",
    "for city in cities:\n",
    "    print(city)\n",
    "    print()\n",
    "\n",
    "print(\"The number of items in the cities list is\", len(cities))"
   ]
  },
  {
   "cell_type": "markdown",
   "metadata": {},
   "source": [
    "### Part D Append new data to a list\n",
    "*6 points*\n",
    "```python\n",
    "my_list = [ ]\n",
    "\n",
    "animal_1 = 'Elephant'\n",
    "my_list.append(animal_1)\n",
    "\n",
    "animal_2 = 'Giraffe'\n",
    "my_list.append(animal_2)\n",
    "\n",
    "print(my_list)\n",
    "\n",
    "# prints\n",
    "['Elephant', 'Giraffe']\n",
    "```"
   ]
  },
  {
   "cell_type": "code",
   "execution_count": 17,
   "metadata": {
    "collapsed": false
   },
   "outputs": [
    {
     "name": "stdout",
     "output_type": "stream",
     "text": [
      "Input your favorite tree oak\n",
      "Input your favorite tree redwood\n",
      "Input your favorite tree sequoia\n",
      "Input your favorite tree sycamore\n",
      "Input your favorite tree walnut\n",
      "Input your favorite tree willow\n",
      "\n",
      "Your favorite trees are:\n",
      "oak\n",
      "\n",
      "redwood\n",
      "\n",
      "sequoia\n",
      "\n",
      "sycamore\n",
      "\n",
      "walnut\n",
      "\n",
      "willow\n",
      "\n"
     ]
    }
   ],
   "source": [
    "# Create an empty list to hold your 6 favorite kinds of trees.\n",
    "# Ask a user to input her favorite kinds of trees.\n",
    "# Append each answer to the list.\n",
    "\n",
    "# When you have the favorites, iterate through the list to print each on \n",
    "# a separate line.\n",
    "\n",
    "# 1 point  well-named empty list \n",
    "# 1 points for loop that runs 6 times \n",
    "# 1 point  call input to get tree\n",
    "# 2 points append tree to your list\n",
    "# 1 iterate, printing \n",
    "\n",
    "trees_list = [ ]\n",
    "\n",
    "favorite_tree_1 = input(\"Input your favorite tree \")\n",
    "trees_list.append(favorite_tree_1)\n",
    "\n",
    "favorite_tree_2 = input(\"Input your favorite tree \")\n",
    "trees_list.append(favorite_tree_2)\n",
    "\n",
    "favorite_tree_3 = input(\"Input your favorite tree \")\n",
    "trees_list.append(favorite_tree_3)\n",
    "\n",
    "favorite_tree_4 = input(\"Input your favorite tree \")\n",
    "trees_list.append(favorite_tree_4)\n",
    "\n",
    "favorite_tree_5 = input(\"Input your favorite tree \")\n",
    "trees_list.append(favorite_tree_5)\n",
    "\n",
    "favorite_tree_6 = input(\"Input your favorite tree \")\n",
    "trees_list.append(favorite_tree_6)\n",
    "\n",
    "print()\n",
    "print(\"Your favorite trees are:\")\n",
    "for tree in trees_list:\n",
    "    print(tree)\n",
    "    print()"
   ]
  },
  {
   "cell_type": "markdown",
   "metadata": {},
   "source": [
    "### Part E Iteration with selective action for several states\n",
    "*6 points*<br>\n",
    "Select a group of states from a **states_list** such as 'OK', 'MT'<br>\n",
    "iterate through the list, adding a comment 'great place to visit'\n",
    "to the selected states (OK and MT in this example) <br>\n",
    "\t\n",
    "Hint: <br>\n",
    "Iterate using a **for** loop, \n",
    "Select using something like **if** state **in [**'OK', 'MT'**]:** "
   ]
  },
  {
   "cell_type": "code",
   "execution_count": 5,
   "metadata": {
    "collapsed": false
   },
   "outputs": [
    {
     "name": "stdout",
     "output_type": "stream",
     "text": [
      "AK \n",
      "\n",
      "AZ a great place to visit\n",
      "\n",
      "CA a great place to visit\n",
      "\n",
      "CO \n",
      "\n",
      "HI \n",
      "\n",
      "MI \n",
      "\n",
      "MN \n",
      "\n",
      "MT \n",
      "\n",
      "ND \n",
      "\n",
      "NM \n",
      "\n",
      "NV a great place to visit\n",
      "\n",
      "OH \n",
      "\n",
      "OK \n",
      "\n",
      "OR \n",
      "\n",
      "SD \n",
      "\n",
      "UT a great place to visit\n",
      "\n",
      "WA \n",
      "\n",
      "WI \n",
      "\n",
      "WY \n",
      "\n"
     ]
    }
   ],
   "source": [
    "states_list = ['AK', 'AZ', 'CA', 'CO', \n",
    "               'HI', 'MI', 'MN', 'MT', \n",
    "               'ND', 'NM', 'NV', 'OH', \n",
    "               'OK', 'OR', 'SD', 'UT', \n",
    "               'WA', 'WI', 'WY']\n",
    "\n",
    "# Iterate through this states_list,\n",
    "# if the state is any one of AZ, CA, UT or NV, add a comment\n",
    "# 'great place to visit' to the state code.\n",
    "# Print each state along with a comment when needed, all on \n",
    "# separate lines.\n",
    "\n",
    "# 1 point, iterate\n",
    "# 3 points if to check for any of the states needing special attention\n",
    "# 2 points print state code and if needed, a comment\n",
    "\n",
    "special_message = \"a great place to visit\"\n",
    "normal_message = \"\"\n",
    "\n",
    "for state in states_list:\n",
    "    if state in [\"AZ\", \"CA\", \"UT\", \"NV\"]:\n",
    "        message = special_message\n",
    "    else:\n",
    "        message = normal_message\n",
    "    \n",
    "    print(state, message)\n",
    "    print()"
   ]
  },
  {
   "cell_type": "markdown",
   "metadata": {},
   "source": [
    "### Bonus\n",
    "*2 points*<br>\n",
    "Display this data as a Pie Chart\n",
    "\n",
    "One year for University of Prineville\n",
    "```\n",
    "Tuition       4,675.00\n",
    "Books           432.75\n",
    "Room & Board  9,674.00\n",
    "Misc.         1,500.00\n",
    "```"
   ]
  },
  {
   "cell_type": "code",
   "execution_count": 11,
   "metadata": {
    "collapsed": false
   },
   "outputs": [
    {
     "data": {
      "image/png": "[encoded data removed]",
      "text/plain": [
       "<matplotlib.figure.Figure at 0x1a7e7a10a58>"
      ]
     },
     "metadata": {},
     "output_type": "display_data"
    }
   ],
   "source": [
    "### Pie Chart\n",
    "\n",
    "import matplotlib.pyplot as plt \n",
    "%matplotlib inline\n",
    "\n",
    "college_expenses = [4675.00, 432.75, 9674.00, 1500.00]\n",
    "\n",
    "expenses_labels = ['Tuition', 'Books', 'Room & Board', 'Misc.']\n",
    "\n",
    "expenses_explode = [0.0, 0.0, 0.0, 0.1]\n",
    "\n",
    "plt.pie(college_expenses, labels = expenses_labels, explode = expenses_explode, autopct=\"%1.1f%%\")\n",
    "\n",
    "plt.axis('equal')\n",
    "\n",
    "plt.show()"
   ]
  }
 ],
 "metadata": {
  "anaconda-cloud": {},
  "kernelspec": {
   "display_name": "Python [conda root]",
   "language": "python",
   "name": "conda-root-py"
  },
  "language_info": {
   "codemirror_mode": {
    "name": "ipython",
    "version": 3
   },
   "file_extension": ".py",
   "mimetype": "text/x-python",
   "name": "python",
   "nbconvert_exporter": "python",
   "pygments_lexer": "ipython3",
   "version": "3.5.2"
  }
 },
 "nbformat": 4,
 "nbformat_minor": 1
}

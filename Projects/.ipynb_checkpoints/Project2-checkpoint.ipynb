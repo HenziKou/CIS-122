{
 "cells": [
  {
   "cell_type": "markdown",
   "metadata": {},
   "source": [
    "## Part A"
   ]
  },
  {
   "cell_type": "code",
   "execution_count": 1,
   "metadata": {
    "collapsed": false,
    "scrolled": true
   },
   "outputs": [
    {
     "name": "stdout",
     "output_type": "stream",
     "text": [
      "The lowest recorded temperature of the year: 28\n",
      "The all-time lowest temperature: 16\n"
     ]
    }
   ],
   "source": [
    "lowest_temp = 28\n",
    "print(\"The lowest recorded temperature of the year:\", lowest_temp)\n",
    "\n",
    "lowest_temp = lowest_temp - 12\n",
    "print(\"The all-time lowest temperature:\", lowest_temp)"
   ]
  },
  {
   "cell_type": "markdown",
   "metadata": {},
   "source": [
    "## Part B\n",
    "\n",
    "still need to finish"
   ]
  },
  {
   "cell_type": "code",
   "execution_count": 2,
   "metadata": {
    "collapsed": false
   },
   "outputs": [
    {
     "name": "stdout",
     "output_type": "stream",
     "text": [
      "Batman vs. Superman was the worst movie that I've seen in 2016.\n",
      "One of the lowest rating movies of 2016 on Rotten Tomatoes is: Mother's Day\n"
     ]
    }
   ],
   "source": [
    "worst_movie_seen = \"Batman vs. Superman\"\n",
    "print(worst_movie_seen, \"was the worst movie that I've seen in 2016.\")\n",
    "\n",
    "worst_2016_movie = \"Mother's Day\"\n",
    "print(\"One of the lowest rating movies of 2016 on Rotten Tomatoes is:\", worst_2016_movie)"
   ]
  },
  {
   "cell_type": "markdown",
   "metadata": {
    "collapsed": true
   },
   "source": [
    "## Part C"
   ]
  },
  {
   "cell_type": "code",
   "execution_count": 3,
   "metadata": {
    "collapsed": false
   },
   "outputs": [
    {
     "name": "stdout",
     "output_type": "stream",
     "text": [
      "22\n",
      "\n",
      "27\n",
      "\n",
      "34\n",
      "\n",
      "24\n",
      "\n",
      "19\n",
      "\n"
     ]
    }
   ],
   "source": [
    "coldest_days = [22, 27, 34, 24, 19]\n",
    "for coldest in coldest_days:\n",
    "    print(coldest)\n",
    "    print()"
   ]
  },
  {
   "cell_type": "markdown",
   "metadata": {},
   "source": [
    "## Part D"
   ]
  },
  {
   "cell_type": "code",
   "execution_count": 4,
   "metadata": {
    "collapsed": false
   },
   "outputs": [
    {
     "data": {
      "image/png": "[encoded data removed]",
      "text/plain": [
       "<matplotlib.figure.Figure at 0x140ce9d0710>"
      ]
     },
     "metadata": {},
     "output_type": "display_data"
    }
   ],
   "source": [
    "import matplotlib.pyplot as plt\n",
    "%matplotlib inline\n",
    "\n",
    "coldest_days = [22, 27, 34, 24, 19]\n",
    "x = [1, 2, 3, 4, 5]\n",
    "\n",
    "plt.bar(x, coldest_days, align = \"center\")\n",
    "plt.xlabel(\"Day\")\n",
    "plt.ylabel(\"Temperature\")\n",
    "\n",
    "plt.show()"
   ]
  },
  {
   "cell_type": "markdown",
   "metadata": {},
   "source": [
    "## Challenge"
   ]
  },
  {
   "cell_type": "code",
   "execution_count": 5,
   "metadata": {
    "collapsed": false
   },
   "outputs": [
    {
     "name": "stdout",
     "output_type": "stream",
     "text": [
      "The Last Airbender\n",
      "\n",
      "Batman vs. Superman\n",
      "\n",
      "World of Warcraft\n",
      "\n",
      "Battlefield Earth\n",
      "\n",
      "Speed Racer\n",
      "\n",
      "Glitter\n",
      "\n",
      "Catwoman\n",
      "\n",
      "Disaster Movie\n",
      "\n",
      "Movie 43\n",
      "\n",
      "United Passions\n",
      "\n"
     ]
    }
   ],
   "source": [
    "horrible_films = [\"The Last Airbender\", \"Batman vs. Superman\", \"World of Warcraft\", \"Battlefield Earth\", \"Speed Racer\", \"Glitter\", \"Catwoman\", \"Disaster Movie\", \"Movie 43\", \"United Passions\"]\n",
    "for films in horrible_films:\n",
    "    print(films)\n",
    "    print()"
   ]
  }
 ],
 "metadata": {
  "anaconda-cloud": {},
  "kernelspec": {
   "display_name": "Python [conda root]",
   "language": "python",
   "name": "conda-root-py"
  },
  "language_info": {
   "codemirror_mode": {
    "name": "ipython",
    "version": 3
   },
   "file_extension": ".py",
   "mimetype": "text/x-python",
   "name": "python",
   "nbconvert_exporter": "python",
   "pygments_lexer": "ipython3",
   "version": "3.5.2"
  }
 },
 "nbformat": 4,
 "nbformat_minor": 1
}
